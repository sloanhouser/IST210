{
  "nbformat": 4,
  "nbformat_minor": 0,
  "metadata": {
    "colab": {
      "name": "Lab 1 - First Google Notebook",
      "provenance": [],
      "authorship_tag": "ABX9TyO5ZAUMpFyVTv5mNThb0eOt",
      "include_colab_link": true
    },
    "kernelspec": {
      "name": "python3",
      "display_name": "Python 3"
    }
  },
  "cells": [
    {
      "cell_type": "markdown",
      "metadata": {
        "id": "view-in-github",
        "colab_type": "text"
      },
      "source": [
        "<a href=\"https://colab.research.google.com/github/sloanhouser/IST210/blob/master/Lab_1_First_Google_Notebook.ipynb\" target=\"_parent\"><img src=\"https://colab.research.google.com/assets/colab-badge.svg\" alt=\"Open In Colab\"/></a>"
      ]
    },
    {
      "cell_type": "markdown",
      "metadata": {
        "id": "CR8yt09CFBDr",
        "colab_type": "text"
      },
      "source": [
        "#Lab 1 - First Google Notebook"
      ]
    },
    {
      "cell_type": "markdown",
      "metadata": {
        "id": "KeaWU2yPFHej",
        "colab_type": "text"
      },
      "source": [
        "##Hello, my name is Sloan Houser."
      ]
    },
    {
      "cell_type": "markdown",
      "metadata": {
        "id": "qJVVQd2xFLrk",
        "colab_type": "text"
      },
      "source": [
        "##My interests include hacking, gaming, and software testing."
      ]
    },
    {
      "cell_type": "markdown",
      "metadata": {
        "id": "nWY96S5UF87z",
        "colab_type": "text"
      },
      "source": [
        "##Someday, I hope to work for the NSA or CIA, or at least work for the government in some regard. "
      ]
    },
    {
      "cell_type": "markdown",
      "metadata": {
        "id": "AAtJZuORGhq8",
        "colab_type": "text"
      },
      "source": [
        "![alt text](https://raw.githubusercontent.com/sloanhouser/IST210/master/Introduction/IMG_2152.JPG)\n"
      ]
    }
  ]
}