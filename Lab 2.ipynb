{
  "nbformat": 4,
  "nbformat_minor": 0,
  "metadata": {
    "colab": {
      "name": "Untitled",
      "provenance": [],
      "collapsed_sections": [],
      "authorship_tag": "ABX9TyNqj1L1SgQlMXjckO7l992c",
      "include_colab_link": true
    },
    "kernelspec": {
      "name": "python3",
      "display_name": "Python 3"
    }
  },
  "cells": [
    {
      "cell_type": "markdown",
      "metadata": {
        "id": "view-in-github",
        "colab_type": "text"
      },
      "source": [
        "<a href=\"https://colab.research.google.com/github/sloanhouser/IST210/blob/master/Lab%202.ipynb\" target=\"_parent\"><img src=\"https://colab.research.google.com/assets/colab-badge.svg\" alt=\"Open In Colab\"/></a>"
      ]
    },
    {
      "cell_type": "markdown",
      "metadata": {
        "id": "Jw1b95IIQQje",
        "colab_type": "text"
      },
      "source": [
        "\n",
        "\n",
        "\n",
        "\n",
        "\n",
        "\n",
        "### The purpose of creating the ER diagram is to help the local business incorporate more fluidity between the different aspects of the business. This includes the pets and pet food for sale, the transactions for both, and the returning customers helping to support the local business."
      ]
    },
    {
      "cell_type": "markdown",
      "metadata": {
        "id": "FS1tKoE7btlN",
        "colab_type": "text"
      },
      "source": [
        "###The first entity of the database is titled Pet. \n",
        "This entity includes four attributes: pet ID, which is the primary key of the entity, as well as pet price, pet type, and enclosure ID, which is a foreign key to the enclosure entity which will be detailed later. This entity tracks the pets still inside the store.\n",
        "\n"
      ]
    },
    {
      "cell_type": "markdown",
      "metadata": {
        "id": "SEOWy8hSdRi_",
        "colab_type": "text"
      },
      "source": [
        "###The second entity of the database is titled Food.\n",
        "This entity includes three attributes: item UPC, which is the primary key of the entity, in addition to food price and food stock. These attributes allow the business to properly keep track of which items are selling faster than others, giving more insight into which items need restocked more often than others.\n",
        "\n"
      ]
    },
    {
      "cell_type": "markdown",
      "metadata": {
        "id": "Q3UL6-uAeT1U",
        "colab_type": "text"
      },
      "source": [
        "###The third entity of the database is titled Enclosure.\n",
        "This entity includes four attributes: enclosure ID, which is the primary key, as well as enclosure type, number of animals, and pet ID, which is a foreign key to the Pet entity. The purpose of the Enclosure entity is to easily keep track of the animals that belong to and live in each enclosure. If one animal is adopted, the business can easily keep track of a new open spot. This entity is also designed to allow for multiple animals to be kept in a single enclosure, provided the animal must not be kept in its own enclosure. The foreign key pet ID further details which animals are kept in which enclosure. "
      ]
    },
    {
      "cell_type": "markdown",
      "metadata": {
        "id": "YxFF5cUdf9ql",
        "colab_type": "text"
      },
      "source": [
        "###The fourth entity of the database is titled Loyalty Program\n",
        "This entity could also be called Customer. It contains six attributes: account ID, the primary key, in addition to customer name, customer phone number, customer city, customer street address, and customer email. This entity also shares a strong connection with the final two entities: Food and Pet Transaction, which will be detailed shortly. Depending on how the business utilizes the loyalty program, it could provide coupons or discounts based on shopping activity. The loyalty program also records necessary customer information, like the name, phone number, email address, and home address of the customer. Some information is not necessary depending on how the business plans to reach the customer, such as an email or mailing list."
      ]
    },
    {
      "cell_type": "markdown",
      "metadata": {
        "id": "9Yl_ngNi8jzw",
        "colab_type": "text"
      },
      "source": [
        "###The fifth entity of the database is titled Pet Transaction\n",
        "The entity contains four attributes: adoption ID, which is the primary key, total price, and two foreign keys, pet ID and account ID, which correspond to the Pet and Loyalty Program entities respectively. The primary key, adoption ID, is vital to the entity as it records which animal has left the store and now belongs to a customer."
      ]
    },
    {
      "cell_type": "markdown",
      "metadata": {
        "id": "xKrMjG7S9OVb",
        "colab_type": "text"
      },
      "source": [
        "###The sixth and final entity of the database is titled Food Transaction.\n",
        "The entity contains four attributes: transaction ID, which is the primary key, in addition to total price and two foreign keys, item UPC and account ID, which correspond to the Food and Loyalty Program entities respectively. The Food Transaction entity is meant to keep track of food purchases, but could be expanded to track all non-pet purchases, including other items like brushes, bones, and other pet-ownership items."
      ]
    },
    {
      "cell_type": "markdown",
      "metadata": {
        "id": "Jz_OOcaJGKRa",
        "colab_type": "text"
      },
      "source": [
        "![alt text](https://raw.githubusercontent.com/sloanhouser/IST210/master/Pet%20Shop%20ER%20Diagram.png)"
      ]
    }
  ]
}